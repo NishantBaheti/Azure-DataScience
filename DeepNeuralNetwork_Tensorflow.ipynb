{
 "cells": [
  {
   "cell_type": "code",
   "execution_count": 1,
   "metadata": {},
   "outputs": [],
   "source": [
    "import numpy as np\n",
    "import pandas as pd \n",
    "from matplotlib import style\n",
    "import matplotlib.pyplot as plt \n",
    "import seaborn as sns\n",
    "\n",
    "style.use(\"ggplot\")\n",
    "\n",
    "%matplotlib inline"
   ]
  },
  {
   "cell_type": "code",
   "execution_count": 2,
   "metadata": {},
   "outputs": [],
   "source": [
    "df = pd.read_csv(\"./data/penguins.csv\").dropna()"
   ]
  },
  {
   "cell_type": "code",
   "execution_count": 3,
   "metadata": {},
   "outputs": [
    {
     "data": {
      "text/plain": [
       "Index(['CulmenLength', 'CulmenDepth', 'FlipperLength', 'BodyMass', 'Species'], dtype='object')"
      ]
     },
     "execution_count": 3,
     "metadata": {},
     "output_type": "execute_result"
    }
   ],
   "source": [
    "df.columns"
   ]
  },
  {
   "cell_type": "code",
   "execution_count": 4,
   "metadata": {},
   "outputs": [
    {
     "data": {
      "text/html": [
       "<div>\n",
       "<style scoped>\n",
       "    .dataframe tbody tr th:only-of-type {\n",
       "        vertical-align: middle;\n",
       "    }\n",
       "\n",
       "    .dataframe tbody tr th {\n",
       "        vertical-align: top;\n",
       "    }\n",
       "\n",
       "    .dataframe thead th {\n",
       "        text-align: right;\n",
       "    }\n",
       "</style>\n",
       "<table border=\"1\" class=\"dataframe\">\n",
       "  <thead>\n",
       "    <tr style=\"text-align: right;\">\n",
       "      <th></th>\n",
       "      <th>CulmenLength</th>\n",
       "      <th>CulmenDepth</th>\n",
       "      <th>FlipperLength</th>\n",
       "      <th>BodyMass</th>\n",
       "      <th>Species</th>\n",
       "    </tr>\n",
       "  </thead>\n",
       "  <tbody>\n",
       "    <tr>\n",
       "      <th>0</th>\n",
       "      <td>39.1</td>\n",
       "      <td>18.7</td>\n",
       "      <td>181.0</td>\n",
       "      <td>3750.0</td>\n",
       "      <td>0</td>\n",
       "    </tr>\n",
       "    <tr>\n",
       "      <th>1</th>\n",
       "      <td>39.5</td>\n",
       "      <td>17.4</td>\n",
       "      <td>186.0</td>\n",
       "      <td>3800.0</td>\n",
       "      <td>0</td>\n",
       "    </tr>\n",
       "    <tr>\n",
       "      <th>2</th>\n",
       "      <td>40.3</td>\n",
       "      <td>18.0</td>\n",
       "      <td>195.0</td>\n",
       "      <td>3250.0</td>\n",
       "      <td>0</td>\n",
       "    </tr>\n",
       "    <tr>\n",
       "      <th>4</th>\n",
       "      <td>36.7</td>\n",
       "      <td>19.3</td>\n",
       "      <td>193.0</td>\n",
       "      <td>3450.0</td>\n",
       "      <td>0</td>\n",
       "    </tr>\n",
       "    <tr>\n",
       "      <th>5</th>\n",
       "      <td>39.3</td>\n",
       "      <td>20.6</td>\n",
       "      <td>190.0</td>\n",
       "      <td>3650.0</td>\n",
       "      <td>0</td>\n",
       "    </tr>\n",
       "    <tr>\n",
       "      <th>...</th>\n",
       "      <td>...</td>\n",
       "      <td>...</td>\n",
       "      <td>...</td>\n",
       "      <td>...</td>\n",
       "      <td>...</td>\n",
       "    </tr>\n",
       "    <tr>\n",
       "      <th>339</th>\n",
       "      <td>55.8</td>\n",
       "      <td>19.8</td>\n",
       "      <td>207.0</td>\n",
       "      <td>4000.0</td>\n",
       "      <td>2</td>\n",
       "    </tr>\n",
       "    <tr>\n",
       "      <th>340</th>\n",
       "      <td>43.5</td>\n",
       "      <td>18.1</td>\n",
       "      <td>202.0</td>\n",
       "      <td>3400.0</td>\n",
       "      <td>2</td>\n",
       "    </tr>\n",
       "    <tr>\n",
       "      <th>341</th>\n",
       "      <td>49.6</td>\n",
       "      <td>18.2</td>\n",
       "      <td>193.0</td>\n",
       "      <td>3775.0</td>\n",
       "      <td>2</td>\n",
       "    </tr>\n",
       "    <tr>\n",
       "      <th>342</th>\n",
       "      <td>50.8</td>\n",
       "      <td>19.0</td>\n",
       "      <td>210.0</td>\n",
       "      <td>4100.0</td>\n",
       "      <td>2</td>\n",
       "    </tr>\n",
       "    <tr>\n",
       "      <th>343</th>\n",
       "      <td>50.2</td>\n",
       "      <td>18.7</td>\n",
       "      <td>198.0</td>\n",
       "      <td>3775.0</td>\n",
       "      <td>2</td>\n",
       "    </tr>\n",
       "  </tbody>\n",
       "</table>\n",
       "<p>342 rows × 5 columns</p>\n",
       "</div>"
      ],
      "text/plain": [
       "     CulmenLength  CulmenDepth  FlipperLength  BodyMass  Species\n",
       "0            39.1         18.7          181.0    3750.0        0\n",
       "1            39.5         17.4          186.0    3800.0        0\n",
       "2            40.3         18.0          195.0    3250.0        0\n",
       "4            36.7         19.3          193.0    3450.0        0\n",
       "5            39.3         20.6          190.0    3650.0        0\n",
       "..            ...          ...            ...       ...      ...\n",
       "339          55.8         19.8          207.0    4000.0        2\n",
       "340          43.5         18.1          202.0    3400.0        2\n",
       "341          49.6         18.2          193.0    3775.0        2\n",
       "342          50.8         19.0          210.0    4100.0        2\n",
       "343          50.2         18.7          198.0    3775.0        2\n",
       "\n",
       "[342 rows x 5 columns]"
      ]
     },
     "execution_count": 4,
     "metadata": {},
     "output_type": "execute_result"
    }
   ],
   "source": [
    "df"
   ]
  },
  {
   "cell_type": "code",
   "execution_count": 5,
   "metadata": {},
   "outputs": [],
   "source": [
    "X_pre = df[['CulmenLength', 'CulmenDepth', 'FlipperLength', 'BodyMass']].values\n",
    "y = df['Species'].values"
   ]
  },
  {
   "cell_type": "code",
   "execution_count": 6,
   "metadata": {},
   "outputs": [],
   "source": [
    "species_map = {\n",
    "    0 : \"Adelie\",\n",
    "    1 : \"Gentoo\",\n",
    "    2 : \"Chinstrap\"\n",
    "}"
   ]
  },
  {
   "cell_type": "code",
   "execution_count": 7,
   "metadata": {},
   "outputs": [
    {
     "data": {
      "text/plain": [
       "((342, 4), (342,))"
      ]
     },
     "execution_count": 7,
     "metadata": {},
     "output_type": "execute_result"
    }
   ],
   "source": [
    "(\n",
    "    X_pre.shape,\n",
    "    y.shape\n",
    ")"
   ]
  },
  {
   "cell_type": "code",
   "execution_count": 8,
   "metadata": {},
   "outputs": [],
   "source": [
    "from sklearn.preprocessing import StandardScaler, MinMaxScaler\n",
    "\n",
    "X = StandardScaler().fit_transform(X_pre)"
   ]
  },
  {
   "cell_type": "markdown",
   "metadata": {},
   "source": [
    "## Tensorflow"
   ]
  },
  {
   "cell_type": "code",
   "execution_count": 9,
   "metadata": {},
   "outputs": [],
   "source": [
    "import tensorflow\n",
    "from tensorflow import keras \n",
    "from tensorflow.keras import (models, utils, optimizers)\n",
    "from tensorflow.keras.models import Sequential\n",
    "from tensorflow.keras.layers import Dense"
   ]
  },
  {
   "cell_type": "code",
   "execution_count": 10,
   "metadata": {},
   "outputs": [],
   "source": [
    "tf.random.set_seed(0)"
   ]
  },
  {
   "cell_type": "code",
   "execution_count": 11,
   "metadata": {},
   "outputs": [],
   "source": [
    "y = utils.to_categorical(y)"
   ]
  },
  {
   "cell_type": "code",
   "execution_count": 13,
   "metadata": {},
   "outputs": [],
   "source": [
    "from sklearn.model_selection import train_test_split\n",
    "\n",
    "X_train, X_test, y_train, y_test = train_test_split(X,y,test_size=0.20,random_state=0)"
   ]
  },
  {
   "cell_type": "code",
   "execution_count": 17,
   "metadata": {},
   "outputs": [],
   "source": [
    "m_samples ,n_features = X_train.shape\n",
    "_ , n_classes = y_train.shape"
   ]
  },
  {
   "cell_type": "code",
   "execution_count": 20,
   "metadata": {},
   "outputs": [
    {
     "name": "stdout",
     "output_type": "stream",
     "text": [
      "Model: \"sequential_1\"\n",
      "_________________________________________________________________\n",
      "Layer (type)                 Output Shape              Param #   \n",
      "=================================================================\n",
      "dense_1 (Dense)              (None, 10)                50        \n",
      "_________________________________________________________________\n",
      "dense_2 (Dense)              (None, 10)                110       \n",
      "_________________________________________________________________\n",
      "dense_3 (Dense)              (None, 3)                 33        \n",
      "=================================================================\n",
      "Total params: 193\n",
      "Trainable params: 193\n",
      "Non-trainable params: 0\n",
      "_________________________________________________________________\n",
      "None\n"
     ]
    }
   ],
   "source": [
    "hidden_layer_nodes = 10\n",
    "\n",
    "\n",
    "model = Sequential()\n",
    "model.add(\n",
    "    Dense(units=hidden_layer_nodes,input_dim=n_features,activation='relu')\n",
    ")\n",
    "\n",
    "model.add(\n",
    "    Dense(units=hidden_layer_nodes,input_dim=hidden_layer_nodes,activation='relu')\n",
    ")\n",
    "\n",
    "model.add(\n",
    "    Dense(units=n_classes,input_dim=hidden_layer_nodes,activation='softmax')\n",
    ")\n",
    "\n",
    "print(model.summary())"
   ]
  },
  {
   "cell_type": "code",
   "execution_count": 27,
   "metadata": {},
   "outputs": [],
   "source": [
    "model.compile(\n",
    "    loss='categorical_crossentropy',\n",
    "    optimizer=optimizers.Adam(learning_rate=0.001),\n",
    "    metrics=['accuracy']\n",
    ")\n",
    "\n",
    "history = model.fit(X_train,y_train,epochs=1000,batch_size=50,validation_data=(X_test,y_test),verbose=0)"
   ]
  },
  {
   "cell_type": "code",
   "execution_count": 35,
   "metadata": {},
   "outputs": [
    {
     "data": {
      "image/png": "[encoded data removed]",
      "text/plain": [
       "<Figure size 432x288 with 1 Axes>"
      ]
     },
     "metadata": {
      "needs_background": "light"
     },
     "output_type": "display_data"
    },
    {
     "data": {
      "image/png": "[encoded data removed]",
      "text/plain": [
       "<Figure size 432x288 with 1 Axes>"
      ]
     },
     "metadata": {
      "needs_background": "light"
     },
     "output_type": "display_data"
    },
    {
     "data": {
      "image/png": "[encoded data removed]",
      "text/plain": [
       "<Figure size 432x288 with 1 Axes>"
      ]
     },
     "metadata": {
      "needs_background": "light"
     },
     "output_type": "display_data"
    },
    {
     "data": {
      "image/png": "[encoded data removed]",
      "text/plain": [
       "<Figure size 432x288 with 1 Axes>"
      ]
     },
     "metadata": {
      "needs_background": "light"
     },
     "output_type": "display_data"
    }
   ],
   "source": [
    "for i in history.history:\n",
    "    plt.plot(history.history[i])\n",
    "    plt.title(i)\n",
    "    plt.show()"
   ]
  },
  {
   "cell_type": "code",
   "execution_count": 40,
   "metadata": {},
   "outputs": [
    {
     "data": {
      "text/plain": [
       "array([[1.00000000e+00, 1.11732993e-17, 4.21249191e-20],\n",
       "       [8.13306106e-12, 5.56249274e-13, 1.00000000e+00],\n",
       "       [1.00000000e+00, 2.09529141e-30, 2.03192694e-37],\n",
       "       [4.67503060e-06, 3.99469684e-07, 9.99994874e-01],\n",
       "       [1.00000000e+00, 3.23958607e-30, 3.86875466e-36],\n",
       "       [5.23271964e-13, 2.00305419e-12, 1.00000000e+00],\n",
       "       [1.34818186e-20, 1.00000000e+00, 2.42922056e-13],\n",
       "       [1.00000000e+00, 3.72562156e-14, 1.07071639e-13],\n",
       "       [6.02739998e-27, 1.00000000e+00, 9.85609934e-21],\n",
       "       [1.00000000e+00, 4.65095224e-21, 1.72067122e-20],\n",
       "       [1.00000000e+00, 4.03277892e-21, 6.48724499e-24],\n",
       "       [1.22210029e-19, 1.00000000e+00, 5.60661795e-11],\n",
       "       [4.38286316e-13, 1.00000000e+00, 2.99527070e-11],\n",
       "       [1.00000000e+00, 3.60914601e-28, 6.49360653e-32],\n",
       "       [1.00000000e+00, 3.02694043e-21, 2.67990918e-22],\n",
       "       [2.99596875e-14, 1.00000000e+00, 7.34978051e-12],\n",
       "       [2.58736409e-19, 1.00000000e+00, 4.13640069e-16],\n",
       "       [5.70748260e-25, 1.00000000e+00, 1.66753537e-19],\n",
       "       [1.25990206e-04, 7.53957252e-09, 9.99873996e-01],\n",
       "       [1.00000000e+00, 1.41267271e-12, 2.32469533e-09],\n",
       "       [2.57794927e-16, 2.16524470e-15, 1.00000000e+00],\n",
       "       [1.00000000e+00, 4.14584419e-25, 1.11748680e-26],\n",
       "       [2.74383364e-14, 6.36202110e-14, 1.00000000e+00],\n",
       "       [4.30431765e-28, 1.00000000e+00, 5.33681745e-22],\n",
       "       [1.00000000e+00, 1.55853412e-13, 1.21354738e-12],\n",
       "       [1.00000000e+00, 4.40523762e-18, 4.18296840e-18],\n",
       "       [9.42611663e-23, 1.00000000e+00, 4.69866216e-18],\n",
       "       [5.08330306e-15, 6.05016525e-14, 1.00000000e+00],\n",
       "       [1.19320642e-21, 1.00000000e+00, 6.06144056e-17],\n",
       "       [9.22270855e-29, 1.00000000e+00, 9.52144028e-18],\n",
       "       [1.00000000e+00, 2.42366980e-18, 6.45473020e-18],\n",
       "       [1.00000000e+00, 1.90822031e-16, 3.00984638e-18],\n",
       "       [1.00000000e+00, 6.58646728e-23, 1.37376762e-25],\n",
       "       [8.93370139e-15, 1.00000000e+00, 1.84701148e-12],\n",
       "       [6.12057115e-18, 1.00000000e+00, 1.06164823e-14],\n",
       "       [1.00000000e+00, 1.18208886e-28, 2.39927551e-32],\n",
       "       [2.01749221e-14, 5.23969052e-13, 1.00000000e+00],\n",
       "       [2.42291981e-19, 1.00000000e+00, 8.50764365e-14],\n",
       "       [1.01877762e-09, 7.73411890e-10, 1.00000000e+00],\n",
       "       [1.00000000e+00, 8.77646001e-23, 8.72197774e-26],\n",
       "       [1.00000000e+00, 3.34868096e-19, 6.40464235e-19],\n",
       "       [1.00000000e+00, 2.67722862e-17, 4.02803457e-18],\n",
       "       [1.00000000e+00, 1.61896339e-20, 2.16635956e-23],\n",
       "       [3.38874881e-19, 1.00000000e+00, 1.19075913e-15],\n",
       "       [1.00000000e+00, 1.08814866e-20, 1.81822720e-23],\n",
       "       [1.00000000e+00, 1.02041222e-22, 5.10537564e-24],\n",
       "       [2.26452778e-25, 2.23741809e-19, 1.00000000e+00],\n",
       "       [9.12866908e-19, 1.00000000e+00, 1.93564096e-15],\n",
       "       [2.78508384e-20, 1.00000000e+00, 4.46569402e-17],\n",
       "       [5.17405477e-17, 1.90126773e-15, 1.00000000e+00],\n",
       "       [1.00000000e+00, 1.10654558e-28, 4.45010995e-35],\n",
       "       [1.00000000e+00, 4.57696977e-13, 1.66378521e-13],\n",
       "       [1.00000000e+00, 2.66725981e-24, 2.76655262e-28],\n",
       "       [1.00000000e+00, 1.41106332e-18, 2.58700615e-21],\n",
       "       [1.87953070e-10, 1.44675886e-11, 1.00000000e+00],\n",
       "       [1.00000000e+00, 1.21667961e-29, 3.14886982e-33],\n",
       "       [1.99294121e-26, 1.00000000e+00, 2.19728453e-18],\n",
       "       [9.99997497e-01, 1.56061264e-09, 2.51846359e-06],\n",
       "       [1.00000000e+00, 3.21564357e-27, 7.52646125e-30],\n",
       "       [7.78675668e-17, 4.15282758e-16, 1.00000000e+00],\n",
       "       [1.00000000e+00, 1.28001387e-32, 7.69102909e-37],\n",
       "       [1.00000000e+00, 7.69130292e-27, 1.31118559e-29],\n",
       "       [1.00000000e+00, 2.41055585e-20, 5.30577747e-23],\n",
       "       [5.59304300e-22, 1.00000000e+00, 4.07292219e-17],\n",
       "       [1.00000000e+00, 9.37087119e-15, 1.15184123e-14],\n",
       "       [1.00000000e+00, 6.47832550e-14, 6.10347276e-13],\n",
       "       [1.00000000e+00, 2.49537833e-22, 1.66795724e-24],\n",
       "       [5.11287264e-19, 1.00000000e+00, 8.54942148e-13],\n",
       "       [1.00000000e+00, 6.36378004e-18, 3.59480364e-19]], dtype=float32)"
      ]
     },
     "execution_count": 40,
     "metadata": {},
     "output_type": "execute_result"
    }
   ],
   "source": [
    "model.predict(X_test)"
   ]
  }
 ],
 "metadata": {
  "kernelspec": {
   "display_name": "Python 3.8.3 64-bit ('base': conda)",
   "language": "python",
   "name": "python383jvsc74a57bd01da5964c5502736b4e0a0c4398fb3b913682175f516e99bd48540f11726a612c"
  },
  "language_info": {
   "codemirror_mode": {
    "name": "ipython",
    "version": 3
   },
   "file_extension": ".py",
   "mimetype": "text/x-python",
   "name": "python",
   "nbconvert_exporter": "python",
   "pygments_lexer": "ipython3",
   "version": "3.8.3"
  }
 },
 "nbformat": 4,
 "nbformat_minor": 4
}
