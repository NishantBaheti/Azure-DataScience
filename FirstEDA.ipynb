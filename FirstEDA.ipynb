{
 "cells": [
  {
   "cell_type": "code",
   "execution_count": 1,
   "id": "0343e985-d7e7-4c19-bcef-2c0915c5a1c6",
   "metadata": {},
   "outputs": [],
   "source": [
    "import pandas as pd \n",
    "import numpy as np \n",
    "import matplotlib.pyplot as plt \n",
    "import seaborn as sns\n",
    "\n",
    "%matplotlib inline "
   ]
  },
  {
   "cell_type": "code",
   "execution_count": 2,
   "id": "67a2c4ce-4921-49b7-b292-620c8b9090ee",
   "metadata": {},
   "outputs": [
    {
     "name": "stdout",
     "output_type": "stream",
     "text": [
      "[50, 50, 47, 97, 49, 3, 53, 42, 26, 74, 82, 62, 37, 15, 70, 27, 36, 35, 48, 52, 63, 64]\n"
     ]
    }
   ],
   "source": [
    "data = [50,50,47,97,49,3,53,42,26,74,82,62,37,15,70,27,36,35,48,52,63,64]\n",
    "print(data)"
   ]
  },
  {
   "cell_type": "code",
   "execution_count": 3,
   "id": "e24feaad-8748-42f9-9306-0c0d088dbc07",
   "metadata": {},
   "outputs": [
    {
     "name": "stdout",
     "output_type": "stream",
     "text": [
      "converting to numpy array\n",
      "<class 'numpy.ndarray'> [50 50 47 97 49  3 53 42 26 74 82 62 37 15 70 27 36 35 48 52 63 64]\n"
     ]
    }
   ],
   "source": [
    "print(\"converting to numpy array\")\n",
    "\n",
    "grades = np.array(data)\n",
    "print(type(grades),grades)"
   ]
  },
  {
   "cell_type": "code",
   "execution_count": 4,
   "id": "227c2728-1e38-42d2-9b01-c728e83b5084",
   "metadata": {},
   "outputs": [
    {
     "name": "stdout",
     "output_type": "stream",
     "text": [
      "mulitplying list with two\n",
      "[50, 50, 47, 97, 49, 3, 53, 42, 26, 74, 82, 62, 37, 15, 70, 27, 36, 35, 48, 52, 63, 64, 50, 50, 47, 97, 49, 3, 53, 42, 26, 74, 82, 62, 37, 15, 70, 27, 36, 35, 48, 52, 63, 64]\n"
     ]
    }
   ],
   "source": [
    "print(\"mulitplying list with two\")\n",
    "print(data * 2)"
   ]
  },
  {
   "cell_type": "code",
   "execution_count": 5,
   "id": "7b5e72dd-0b09-4c93-8c9b-0a65f099450d",
   "metadata": {},
   "outputs": [
    {
     "name": "stdout",
     "output_type": "stream",
     "text": [
      "multiplying array with two\n",
      "[100 100  94 194  98   6 106  84  52 148 164 124  74  30 140  54  72  70\n",
      "  96 104 126 128]\n"
     ]
    }
   ],
   "source": [
    "print(\"multiplying array with two\")\n",
    "print(grades * 2)"
   ]
  },
  {
   "cell_type": "markdown",
   "id": "8e6575b5-8066-4edf-8291-cc9a00197cc4",
   "metadata": {},
   "source": [
    "- numpy array behaves like a vector and multiplying by 2 works like that"
   ]
  },
  {
   "cell_type": "code",
   "execution_count": 6,
   "id": "92d71130-46c7-4e03-a990-9a396ba602f2",
   "metadata": {},
   "outputs": [
    {
     "data": {
      "text/plain": [
       "(22,)"
      ]
     },
     "execution_count": 6,
     "metadata": {},
     "output_type": "execute_result"
    }
   ],
   "source": [
    "grades.shape"
   ]
  },
  {
   "cell_type": "code",
   "execution_count": 7,
   "id": "35ca029e-e884-4825-9993-1740e5df6822",
   "metadata": {},
   "outputs": [
    {
     "data": {
      "text/plain": [
       "49.18181818181818"
      ]
     },
     "execution_count": 7,
     "metadata": {},
     "output_type": "execute_result"
    }
   ],
   "source": [
    "grades.mean()"
   ]
  },
  {
   "cell_type": "code",
   "execution_count": 8,
   "id": "e56e5c70-e7a8-4528-a855-2b2016a1cc5a",
   "metadata": {},
   "outputs": [
    {
     "name": "stdout",
     "output_type": "stream",
     "text": [
      "<class 'numpy.ndarray'> [[10.   11.5   9.   16.    9.25  1.   11.5   9.    8.5  14.5  15.5  13.75\n",
      "   9.    8.   15.5   8.    9.    6.   10.   12.   12.5  12.  ]\n",
      " [50.   50.   47.   97.   49.    3.   53.   42.   26.   74.   82.   62.\n",
      "  37.   15.   70.   27.   36.   35.   48.   52.   63.   64.  ]]\n"
     ]
    }
   ],
   "source": [
    "\n",
    "# Define an array of study hours\n",
    "study_hours = [10.0,11.5,9.0,16.0,9.25,1.0,11.5,9.0,8.5,14.5,15.5,\n",
    "               13.75,9.0,8.0,15.5,8.0,9.0,6.0,10.0,12.0,12.5,12.0]\n",
    "\n",
    "# Create a 2D array (an array of arrays)\n",
    "student_data = np.array([study_hours, grades])\n",
    "\n",
    "# display the array\n",
    "print(type(student_data),student_data)"
   ]
  },
  {
   "cell_type": "code",
   "execution_count": 9,
   "id": "83a25f1b-74ab-4236-839f-69564a81e4ee",
   "metadata": {},
   "outputs": [
    {
     "data": {
      "text/plain": [
       "(2, 22)"
      ]
     },
     "execution_count": 9,
     "metadata": {},
     "output_type": "execute_result"
    }
   ],
   "source": [
    "student_data.shape"
   ]
  },
  {
   "cell_type": "code",
   "execution_count": 10,
   "id": "c5c65067-8289-486f-99fd-fe255188c5ec",
   "metadata": {},
   "outputs": [
    {
     "data": {
      "text/plain": [
       "(10.522727272727273, 49.18181818181818)"
      ]
     },
     "execution_count": 10,
     "metadata": {},
     "output_type": "execute_result"
    }
   ],
   "source": [
    "student_data[0].mean(), student_data[1].mean()"
   ]
  },
  {
   "cell_type": "code",
   "execution_count": 11,
   "id": "6a6d2e7e-6356-49dc-9b1c-039102585700",
   "metadata": {},
   "outputs": [
    {
     "data": {
      "text/plain": [
       "array([10.52272727, 49.18181818])"
      ]
     },
     "execution_count": 11,
     "metadata": {},
     "output_type": "execute_result"
    }
   ],
   "source": [
    "student_data.mean(axis=1)"
   ]
  },
  {
   "cell_type": "code",
   "execution_count": 12,
   "id": "5bcee82a-44be-47a7-987a-bc285227de5e",
   "metadata": {},
   "outputs": [],
   "source": [
    "names = np.array(['Dan', 'Joann', 'Pedro', 'Rosie', 'Ethan', 'Vicky', 'Frederic', 'Jimmie', 'Rhonda', 'Giovanni', 'Francesca', 'Rajab', 'Naiyana', 'Kian', 'Jenny','Jakeem','Helena','Ismat','Anila','Skye','Daniel','Aisha'])\n"
   ]
  },
  {
   "cell_type": "code",
   "execution_count": 13,
   "id": "2608d630-4c46-4be1-a888-5774354f3a2c",
   "metadata": {},
   "outputs": [],
   "source": [
    "student_data = np.vstack((student_data,names))"
   ]
  },
  {
   "cell_type": "code",
   "execution_count": 14,
   "id": "9b15e4ef-a078-403f-a3d5-28e16c64f362",
   "metadata": {},
   "outputs": [
    {
     "data": {
      "text/plain": [
       "(3, 22)"
      ]
     },
     "execution_count": 14,
     "metadata": {},
     "output_type": "execute_result"
    }
   ],
   "source": [
    "student_data.shape"
   ]
  },
  {
   "cell_type": "code",
   "execution_count": 15,
   "id": "de4cb4a8-8ee6-49b7-8b6e-9a11da893acb",
   "metadata": {},
   "outputs": [
    {
     "name": "stdout",
     "output_type": "stream",
     "text": [
      "[['10.0' '11.5' '9.0' '16.0' '9.25' '1.0' '11.5' '9.0' '8.5' '14.5'\n",
      "  '15.5' '13.75' '9.0' '8.0' '15.5' '8.0' '9.0' '6.0' '10.0' '12.0'\n",
      "  '12.5' '12.0']\n",
      " ['50.0' '50.0' '47.0' '97.0' '49.0' '3.0' '53.0' '42.0' '26.0' '74.0'\n",
      "  '82.0' '62.0' '37.0' '15.0' '70.0' '27.0' '36.0' '35.0' '48.0' '52.0'\n",
      "  '63.0' '64.0']\n",
      " ['Dan' 'Joann' 'Pedro' 'Rosie' 'Ethan' 'Vicky' 'Frederic' 'Jimmie'\n",
      "  'Rhonda' 'Giovanni' 'Francesca' 'Rajab' 'Naiyana' 'Kian' 'Jenny'\n",
      "  'Jakeem' 'Helena' 'Ismat' 'Anila' 'Skye' 'Daniel' 'Aisha']]\n"
     ]
    }
   ],
   "source": [
    "print(student_data)"
   ]
  },
  {
   "cell_type": "code",
   "execution_count": 16,
   "id": "33234bb7-c04b-47ce-a1ab-1143008d2b61",
   "metadata": {},
   "outputs": [],
   "source": [
    "df_student = pd.DataFrame({\n",
    "    \"Name\" : student_data[2],\n",
    "    \"StudyHours\" : student_data[0],\n",
    "    \"Grades\" : student_data[1]\n",
    "})"
   ]
  },
  {
   "cell_type": "code",
   "execution_count": 17,
   "id": "11c8cacd-0413-4b62-bd45-f86c7c123f83",
   "metadata": {},
   "outputs": [
    {
     "data": {
      "text/html": [
       "<div>\n",
       "<style scoped>\n",
       "    .dataframe tbody tr th:only-of-type {\n",
       "        vertical-align: middle;\n",
       "    }\n",
       "\n",
       "    .dataframe tbody tr th {\n",
       "        vertical-align: top;\n",
       "    }\n",
       "\n",
       "    .dataframe thead th {\n",
       "        text-align: right;\n",
       "    }\n",
       "</style>\n",
       "<table border=\"1\" class=\"dataframe\">\n",
       "  <thead>\n",
       "    <tr style=\"text-align: right;\">\n",
       "      <th></th>\n",
       "      <th>Name</th>\n",
       "      <th>StudyHours</th>\n",
       "      <th>Grades</th>\n",
       "    </tr>\n",
       "  </thead>\n",
       "  <tbody>\n",
       "    <tr>\n",
       "      <th>0</th>\n",
       "      <td>Dan</td>\n",
       "      <td>10.0</td>\n",
       "      <td>50.0</td>\n",
       "    </tr>\n",
       "    <tr>\n",
       "      <th>1</th>\n",
       "      <td>Joann</td>\n",
       "      <td>11.5</td>\n",
       "      <td>50.0</td>\n",
       "    </tr>\n",
       "    <tr>\n",
       "      <th>2</th>\n",
       "      <td>Pedro</td>\n",
       "      <td>9.0</td>\n",
       "      <td>47.0</td>\n",
       "    </tr>\n",
       "    <tr>\n",
       "      <th>3</th>\n",
       "      <td>Rosie</td>\n",
       "      <td>16.0</td>\n",
       "      <td>97.0</td>\n",
       "    </tr>\n",
       "    <tr>\n",
       "      <th>4</th>\n",
       "      <td>Ethan</td>\n",
       "      <td>9.25</td>\n",
       "      <td>49.0</td>\n",
       "    </tr>\n",
       "  </tbody>\n",
       "</table>\n",
       "</div>"
      ],
      "text/plain": [
       "    Name StudyHours Grades\n",
       "0    Dan       10.0   50.0\n",
       "1  Joann       11.5   50.0\n",
       "2  Pedro        9.0   47.0\n",
       "3  Rosie       16.0   97.0\n",
       "4  Ethan       9.25   49.0"
      ]
     },
     "execution_count": 17,
     "metadata": {},
     "output_type": "execute_result"
    }
   ],
   "source": [
    "df_student.head()"
   ]
  },
  {
   "cell_type": "code",
   "execution_count": 18,
   "id": "d2b079a1-79f9-46ec-bc2f-9e647c57a5e7",
   "metadata": {},
   "outputs": [
    {
     "data": {
      "text/plain": [
       "Name          Vicky\n",
       "StudyHours      1.0\n",
       "Grades          3.0\n",
       "Name: 5, dtype: object"
      ]
     },
     "execution_count": 18,
     "metadata": {},
     "output_type": "execute_result"
    }
   ],
   "source": [
    "df_student.loc[5]"
   ]
  },
  {
   "cell_type": "code",
   "execution_count": 19,
   "id": "9fa0359a-5ec9-4694-ae4c-e974710e35a5",
   "metadata": {},
   "outputs": [
    {
     "data": {
      "text/html": [
       "<div>\n",
       "<style scoped>\n",
       "    .dataframe tbody tr th:only-of-type {\n",
       "        vertical-align: middle;\n",
       "    }\n",
       "\n",
       "    .dataframe tbody tr th {\n",
       "        vertical-align: top;\n",
       "    }\n",
       "\n",
       "    .dataframe thead th {\n",
       "        text-align: right;\n",
       "    }\n",
       "</style>\n",
       "<table border=\"1\" class=\"dataframe\">\n",
       "  <thead>\n",
       "    <tr style=\"text-align: right;\">\n",
       "      <th></th>\n",
       "      <th>Name</th>\n",
       "      <th>StudyHours</th>\n",
       "      <th>Grades</th>\n",
       "    </tr>\n",
       "  </thead>\n",
       "  <tbody>\n",
       "    <tr>\n",
       "      <th>0</th>\n",
       "      <td>Dan</td>\n",
       "      <td>10.0</td>\n",
       "      <td>50.0</td>\n",
       "    </tr>\n",
       "  </tbody>\n",
       "</table>\n",
       "</div>"
      ],
      "text/plain": [
       "  Name StudyHours Grades\n",
       "0  Dan       10.0   50.0"
      ]
     },
     "execution_count": 19,
     "metadata": {},
     "output_type": "execute_result"
    }
   ],
   "source": [
    "df_student.loc[df_student.Name == \"Dan\"]"
   ]
  },
  {
   "cell_type": "code",
   "execution_count": 20,
   "id": "8fdbf1e5-9f52-4cf7-a394-a7f36b335e4d",
   "metadata": {},
   "outputs": [
    {
     "data": {
      "text/html": [
       "<div>\n",
       "<style scoped>\n",
       "    .dataframe tbody tr th:only-of-type {\n",
       "        vertical-align: middle;\n",
       "    }\n",
       "\n",
       "    .dataframe tbody tr th {\n",
       "        vertical-align: top;\n",
       "    }\n",
       "\n",
       "    .dataframe thead th {\n",
       "        text-align: right;\n",
       "    }\n",
       "</style>\n",
       "<table border=\"1\" class=\"dataframe\">\n",
       "  <thead>\n",
       "    <tr style=\"text-align: right;\">\n",
       "      <th></th>\n",
       "      <th>Name</th>\n",
       "      <th>StudyHours</th>\n",
       "      <th>Grades</th>\n",
       "    </tr>\n",
       "  </thead>\n",
       "  <tbody>\n",
       "    <tr>\n",
       "      <th>0</th>\n",
       "      <td>Dan</td>\n",
       "      <td>10.0</td>\n",
       "      <td>50.0</td>\n",
       "    </tr>\n",
       "    <tr>\n",
       "      <th>1</th>\n",
       "      <td>Joann</td>\n",
       "      <td>11.5</td>\n",
       "      <td>50.0</td>\n",
       "    </tr>\n",
       "    <tr>\n",
       "      <th>2</th>\n",
       "      <td>Pedro</td>\n",
       "      <td>9.0</td>\n",
       "      <td>47.0</td>\n",
       "    </tr>\n",
       "    <tr>\n",
       "      <th>3</th>\n",
       "      <td>Rosie</td>\n",
       "      <td>16.0</td>\n",
       "      <td>97.0</td>\n",
       "    </tr>\n",
       "    <tr>\n",
       "      <th>4</th>\n",
       "      <td>Ethan</td>\n",
       "      <td>9.25</td>\n",
       "      <td>49.0</td>\n",
       "    </tr>\n",
       "    <tr>\n",
       "      <th>5</th>\n",
       "      <td>Vicky</td>\n",
       "      <td>1.0</td>\n",
       "      <td>3.0</td>\n",
       "    </tr>\n",
       "  </tbody>\n",
       "</table>\n",
       "</div>"
      ],
      "text/plain": [
       "    Name StudyHours Grades\n",
       "0    Dan       10.0   50.0\n",
       "1  Joann       11.5   50.0\n",
       "2  Pedro        9.0   47.0\n",
       "3  Rosie       16.0   97.0\n",
       "4  Ethan       9.25   49.0\n",
       "5  Vicky        1.0    3.0"
      ]
     },
     "execution_count": 20,
     "metadata": {},
     "output_type": "execute_result"
    }
   ],
   "source": [
    "df_student.loc[0:5]"
   ]
  },
  {
   "cell_type": "code",
   "execution_count": 21,
   "id": "388763b0-b25e-4b13-81ca-4c771669a399",
   "metadata": {},
   "outputs": [
    {
     "name": "stdout",
     "output_type": "stream",
     "text": [
      "[rows,column_name]\n"
     ]
    },
    {
     "data": {
      "text/plain": [
       "Grades    50.0\n",
       "Name: 0, dtype: object"
      ]
     },
     "execution_count": 21,
     "metadata": {},
     "output_type": "execute_result"
    }
   ],
   "source": [
    "print(\"[rows,column_name]\")\n",
    "df_student.loc[0,[\"Grades\"]]"
   ]
  },
  {
   "cell_type": "code",
   "execution_count": 22,
   "id": "2896878f-7e47-4d8b-840a-b1dc2ceb8647",
   "metadata": {},
   "outputs": [
    {
     "data": {
      "text/plain": [
       "Name          Vicky\n",
       "StudyHours      1.0\n",
       "Grades          3.0\n",
       "Name: 5, dtype: object"
      ]
     },
     "execution_count": 22,
     "metadata": {},
     "output_type": "execute_result"
    }
   ],
   "source": [
    "df_student.iloc[5]"
   ]
  },
  {
   "cell_type": "code",
   "execution_count": 23,
   "id": "18973196-4c91-4ca5-a697-40b6e3072935",
   "metadata": {},
   "outputs": [
    {
     "name": "stdout",
     "output_type": "stream",
     "text": [
      "[rows,[column1,column2]]\n"
     ]
    },
    {
     "data": {
      "text/plain": [
       "StudyHours    10.0\n",
       "Grades        50.0\n",
       "Name: 0, dtype: object"
      ]
     },
     "execution_count": 23,
     "metadata": {},
     "output_type": "execute_result"
    }
   ],
   "source": [
    "print(\"[rows,[column1,column2]]\")\n",
    "df_student.iloc[0,[1,2]]"
   ]
  },
  {
   "cell_type": "code",
   "execution_count": 24,
   "id": "e7271cb2-95a8-4be1-adb4-f4220dca017d",
   "metadata": {},
   "outputs": [
    {
     "data": {
      "text/html": [
       "<div>\n",
       "<style scoped>\n",
       "    .dataframe tbody tr th:only-of-type {\n",
       "        vertical-align: middle;\n",
       "    }\n",
       "\n",
       "    .dataframe tbody tr th {\n",
       "        vertical-align: top;\n",
       "    }\n",
       "\n",
       "    .dataframe thead th {\n",
       "        text-align: right;\n",
       "    }\n",
       "</style>\n",
       "<table border=\"1\" class=\"dataframe\">\n",
       "  <thead>\n",
       "    <tr style=\"text-align: right;\">\n",
       "      <th></th>\n",
       "      <th>Name</th>\n",
       "      <th>StudyHours</th>\n",
       "      <th>Grades</th>\n",
       "    </tr>\n",
       "  </thead>\n",
       "  <tbody>\n",
       "    <tr>\n",
       "      <th>0</th>\n",
       "      <td>Dan</td>\n",
       "      <td>10.0</td>\n",
       "      <td>50.0</td>\n",
       "    </tr>\n",
       "    <tr>\n",
       "      <th>1</th>\n",
       "      <td>Joann</td>\n",
       "      <td>11.5</td>\n",
       "      <td>50.0</td>\n",
       "    </tr>\n",
       "    <tr>\n",
       "      <th>2</th>\n",
       "      <td>Pedro</td>\n",
       "      <td>9.0</td>\n",
       "      <td>47.0</td>\n",
       "    </tr>\n",
       "    <tr>\n",
       "      <th>3</th>\n",
       "      <td>Rosie</td>\n",
       "      <td>16.0</td>\n",
       "      <td>97.0</td>\n",
       "    </tr>\n",
       "    <tr>\n",
       "      <th>4</th>\n",
       "      <td>Ethan</td>\n",
       "      <td>9.25</td>\n",
       "      <td>49.0</td>\n",
       "    </tr>\n",
       "  </tbody>\n",
       "</table>\n",
       "</div>"
      ],
      "text/plain": [
       "    Name StudyHours Grades\n",
       "0    Dan       10.0   50.0\n",
       "1  Joann       11.5   50.0\n",
       "2  Pedro        9.0   47.0\n",
       "3  Rosie       16.0   97.0\n",
       "4  Ethan       9.25   49.0"
      ]
     },
     "execution_count": 24,
     "metadata": {},
     "output_type": "execute_result"
    }
   ],
   "source": [
    "df_student.iloc[0:5,[0,1,2]]"
   ]
  },
  {
   "cell_type": "code",
   "execution_count": 25,
   "id": "5a370fd7-3f09-4a3f-bee5-2f331a82efc1",
   "metadata": {},
   "outputs": [
    {
     "data": {
      "text/html": [
       "<div>\n",
       "<style scoped>\n",
       "    .dataframe tbody tr th:only-of-type {\n",
       "        vertical-align: middle;\n",
       "    }\n",
       "\n",
       "    .dataframe tbody tr th {\n",
       "        vertical-align: top;\n",
       "    }\n",
       "\n",
       "    .dataframe thead th {\n",
       "        text-align: right;\n",
       "    }\n",
       "</style>\n",
       "<table border=\"1\" class=\"dataframe\">\n",
       "  <thead>\n",
       "    <tr style=\"text-align: right;\">\n",
       "      <th></th>\n",
       "      <th>Name</th>\n",
       "      <th>StudyHours</th>\n",
       "      <th>Grades</th>\n",
       "    </tr>\n",
       "  </thead>\n",
       "  <tbody>\n",
       "    <tr>\n",
       "      <th>21</th>\n",
       "      <td>Aisha</td>\n",
       "      <td>12.0</td>\n",
       "      <td>64.0</td>\n",
       "    </tr>\n",
       "  </tbody>\n",
       "</table>\n",
       "</div>"
      ],
      "text/plain": [
       "     Name StudyHours Grades\n",
       "21  Aisha       12.0   64.0"
      ]
     },
     "execution_count": 25,
     "metadata": {},
     "output_type": "execute_result"
    }
   ],
   "source": [
    "df_student.query(\"Name=='Aisha'\")"
   ]
  },
  {
   "cell_type": "markdown",
   "id": "357cb36b-358a-42d3-8c3c-929ea323cf2c",
   "metadata": {},
   "source": [
    "## Loading dataset from a file"
   ]
  },
  {
   "cell_type": "code",
   "execution_count": 26,
   "id": "c05c0f34-8199-46aa-bc20-1a57db59deeb",
   "metadata": {},
   "outputs": [],
   "source": [
    "df_student = pd.read_csv(\"./data/grades.csv\")"
   ]
  },
  {
   "cell_type": "code",
   "execution_count": 27,
   "id": "03f49096-5d2f-4992-b323-554c8c482da4",
   "metadata": {},
   "outputs": [
    {
     "data": {
      "text/html": [
       "<div>\n",
       "<style scoped>\n",
       "    .dataframe tbody tr th:only-of-type {\n",
       "        vertical-align: middle;\n",
       "    }\n",
       "\n",
       "    .dataframe tbody tr th {\n",
       "        vertical-align: top;\n",
       "    }\n",
       "\n",
       "    .dataframe thead th {\n",
       "        text-align: right;\n",
       "    }\n",
       "</style>\n",
       "<table border=\"1\" class=\"dataframe\">\n",
       "  <thead>\n",
       "    <tr style=\"text-align: right;\">\n",
       "      <th></th>\n",
       "      <th>Name</th>\n",
       "      <th>StudyHours</th>\n",
       "      <th>Grade</th>\n",
       "    </tr>\n",
       "  </thead>\n",
       "  <tbody>\n",
       "    <tr>\n",
       "      <th>0</th>\n",
       "      <td>Dan</td>\n",
       "      <td>10.00</td>\n",
       "      <td>50.0</td>\n",
       "    </tr>\n",
       "    <tr>\n",
       "      <th>1</th>\n",
       "      <td>Joann</td>\n",
       "      <td>11.50</td>\n",
       "      <td>50.0</td>\n",
       "    </tr>\n",
       "    <tr>\n",
       "      <th>2</th>\n",
       "      <td>Pedro</td>\n",
       "      <td>9.00</td>\n",
       "      <td>47.0</td>\n",
       "    </tr>\n",
       "    <tr>\n",
       "      <th>3</th>\n",
       "      <td>Rosie</td>\n",
       "      <td>16.00</td>\n",
       "      <td>97.0</td>\n",
       "    </tr>\n",
       "    <tr>\n",
       "      <th>4</th>\n",
       "      <td>Ethan</td>\n",
       "      <td>9.25</td>\n",
       "      <td>49.0</td>\n",
       "    </tr>\n",
       "  </tbody>\n",
       "</table>\n",
       "</div>"
      ],
      "text/plain": [
       "    Name  StudyHours  Grade\n",
       "0    Dan       10.00   50.0\n",
       "1  Joann       11.50   50.0\n",
       "2  Pedro        9.00   47.0\n",
       "3  Rosie       16.00   97.0\n",
       "4  Ethan        9.25   49.0"
      ]
     },
     "execution_count": 27,
     "metadata": {},
     "output_type": "execute_result"
    }
   ],
   "source": [
    "df_student.head()"
   ]
  },
  {
   "cell_type": "code",
   "execution_count": 28,
   "id": "6964d510-d2c4-4d47-9188-bb6c94303a48",
   "metadata": {},
   "outputs": [
    {
     "data": {
      "text/plain": [
       "(24, 3)"
      ]
     },
     "execution_count": 28,
     "metadata": {},
     "output_type": "execute_result"
    }
   ],
   "source": [
    "df_student.shape"
   ]
  },
  {
   "cell_type": "code",
   "execution_count": 29,
   "id": "c1ed8515-0105-4c21-b74f-a3809470bfd3",
   "metadata": {},
   "outputs": [
    {
     "data": {
      "text/plain": [
       "Name          0\n",
       "StudyHours    1\n",
       "Grade         2\n",
       "dtype: int64"
      ]
     },
     "execution_count": 29,
     "metadata": {},
     "output_type": "execute_result"
    }
   ],
   "source": [
    "df_student.isnull().sum()"
   ]
  },
  {
   "cell_type": "code",
   "execution_count": 30,
   "id": "344d8515-a362-4490-b4e2-1d7fe6945d03",
   "metadata": {},
   "outputs": [
    {
     "data": {
      "text/html": [
       "<div>\n",
       "<style scoped>\n",
       "    .dataframe tbody tr th:only-of-type {\n",
       "        vertical-align: middle;\n",
       "    }\n",
       "\n",
       "    .dataframe tbody tr th {\n",
       "        vertical-align: top;\n",
       "    }\n",
       "\n",
       "    .dataframe thead th {\n",
       "        text-align: right;\n",
       "    }\n",
       "</style>\n",
       "<table border=\"1\" class=\"dataframe\">\n",
       "  <thead>\n",
       "    <tr style=\"text-align: right;\">\n",
       "      <th></th>\n",
       "      <th>Name</th>\n",
       "      <th>StudyHours</th>\n",
       "      <th>Grade</th>\n",
       "    </tr>\n",
       "  </thead>\n",
       "  <tbody>\n",
       "    <tr>\n",
       "      <th>22</th>\n",
       "      <td>Bill</td>\n",
       "      <td>8.0</td>\n",
       "      <td>NaN</td>\n",
       "    </tr>\n",
       "    <tr>\n",
       "      <th>23</th>\n",
       "      <td>Ted</td>\n",
       "      <td>NaN</td>\n",
       "      <td>NaN</td>\n",
       "    </tr>\n",
       "  </tbody>\n",
       "</table>\n",
       "</div>"
      ],
      "text/plain": [
       "    Name  StudyHours  Grade\n",
       "22  Bill         8.0    NaN\n",
       "23   Ted         NaN    NaN"
      ]
     },
     "execution_count": 30,
     "metadata": {},
     "output_type": "execute_result"
    }
   ],
   "source": [
    "df_student[df_student.isnull().any(axis=1)]"
   ]
  },
  {
   "cell_type": "code",
   "execution_count": 31,
   "id": "79ec169a-dc69-4fe6-a149-fe0121ab6958",
   "metadata": {},
   "outputs": [],
   "source": [
    "df_student.StudyHours = df_student.StudyHours.fillna(df_student.StudyHours.mean())"
   ]
  },
  {
   "cell_type": "code",
   "execution_count": 32,
   "id": "e0c7e56b-4229-4ada-aabe-7d4a0190b4a9",
   "metadata": {},
   "outputs": [],
   "source": [
    "df_student = df_student.dropna()"
   ]
  },
  {
   "cell_type": "code",
   "execution_count": 33,
   "id": "fea8166e-37bc-4395-9807-c3a7789b10f7",
   "metadata": {},
   "outputs": [
    {
     "data": {
      "text/plain": [
       "Name          0\n",
       "StudyHours    0\n",
       "Grade         0\n",
       "dtype: int64"
      ]
     },
     "execution_count": 33,
     "metadata": {},
     "output_type": "execute_result"
    }
   ],
   "source": [
    "df_student.isnull().sum()"
   ]
  },
  {
   "cell_type": "code",
   "execution_count": 34,
   "id": "fdd871dd-4839-4c6a-beaa-0c4707a28f0d",
   "metadata": {},
   "outputs": [
    {
     "data": {
      "text/html": [
       "<div>\n",
       "<style scoped>\n",
       "    .dataframe tbody tr th:only-of-type {\n",
       "        vertical-align: middle;\n",
       "    }\n",
       "\n",
       "    .dataframe tbody tr th {\n",
       "        vertical-align: top;\n",
       "    }\n",
       "\n",
       "    .dataframe thead th {\n",
       "        text-align: right;\n",
       "    }\n",
       "</style>\n",
       "<table border=\"1\" class=\"dataframe\">\n",
       "  <thead>\n",
       "    <tr style=\"text-align: right;\">\n",
       "      <th></th>\n",
       "      <th>Name</th>\n",
       "      <th>StudyHours</th>\n",
       "      <th>Grade</th>\n",
       "    </tr>\n",
       "  </thead>\n",
       "  <tbody>\n",
       "    <tr>\n",
       "      <th>0</th>\n",
       "      <td>Dan</td>\n",
       "      <td>10.00</td>\n",
       "      <td>50.0</td>\n",
       "    </tr>\n",
       "    <tr>\n",
       "      <th>1</th>\n",
       "      <td>Joann</td>\n",
       "      <td>11.50</td>\n",
       "      <td>50.0</td>\n",
       "    </tr>\n",
       "    <tr>\n",
       "      <th>2</th>\n",
       "      <td>Pedro</td>\n",
       "      <td>9.00</td>\n",
       "      <td>47.0</td>\n",
       "    </tr>\n",
       "    <tr>\n",
       "      <th>3</th>\n",
       "      <td>Rosie</td>\n",
       "      <td>16.00</td>\n",
       "      <td>97.0</td>\n",
       "    </tr>\n",
       "    <tr>\n",
       "      <th>4</th>\n",
       "      <td>Ethan</td>\n",
       "      <td>9.25</td>\n",
       "      <td>49.0</td>\n",
       "    </tr>\n",
       "  </tbody>\n",
       "</table>\n",
       "</div>"
      ],
      "text/plain": [
       "    Name  StudyHours  Grade\n",
       "0    Dan       10.00   50.0\n",
       "1  Joann       11.50   50.0\n",
       "2  Pedro        9.00   47.0\n",
       "3  Rosie       16.00   97.0\n",
       "4  Ethan        9.25   49.0"
      ]
     },
     "execution_count": 34,
     "metadata": {},
     "output_type": "execute_result"
    }
   ],
   "source": [
    "df_student.head()"
   ]
  },
  {
   "cell_type": "code",
   "execution_count": 35,
   "id": "c31bdcd5-8098-41d2-92a7-8894fb594f50",
   "metadata": {},
   "outputs": [
    {
     "data": {
      "text/plain": [
       "StudyHours    10.522727\n",
       "Grade         49.181818\n",
       "dtype: float64"
      ]
     },
     "execution_count": 35,
     "metadata": {},
     "output_type": "execute_result"
    }
   ],
   "source": [
    "df_student.mean()"
   ]
  },
  {
   "cell_type": "code",
   "execution_count": 36,
   "id": "8ec6243b-f5bf-4b32-817a-b72d48372070",
   "metadata": {},
   "outputs": [
    {
     "data": {
      "text/plain": [
       "0     False\n",
       "1     False\n",
       "2     False\n",
       "3      True\n",
       "4     False\n",
       "5     False\n",
       "6     False\n",
       "7     False\n",
       "8     False\n",
       "9      True\n",
       "10     True\n",
       "11     True\n",
       "12    False\n",
       "13    False\n",
       "14     True\n",
       "15    False\n",
       "16    False\n",
       "17    False\n",
       "18    False\n",
       "19    False\n",
       "20     True\n",
       "21     True\n",
       "Name: Grade, dtype: bool"
      ]
     },
     "execution_count": 36,
     "metadata": {},
     "output_type": "execute_result"
    }
   ],
   "source": [
    "results = pd.Series(df_student.Grade > 60)\n",
    "results"
   ]
  },
  {
   "cell_type": "code",
   "execution_count": 37,
   "id": "5702ab01-2cef-452e-a666-a6d0132a20ca",
   "metadata": {},
   "outputs": [],
   "source": [
    "df_student[\"Result\"] = results"
   ]
  },
  {
   "cell_type": "code",
   "execution_count": 38,
   "id": "e45c3ba7-2d08-4855-b4a3-10f1eaf8b28d",
   "metadata": {},
   "outputs": [
    {
     "data": {
      "text/html": [
       "<div>\n",
       "<style scoped>\n",
       "    .dataframe tbody tr th:only-of-type {\n",
       "        vertical-align: middle;\n",
       "    }\n",
       "\n",
       "    .dataframe tbody tr th {\n",
       "        vertical-align: top;\n",
       "    }\n",
       "\n",
       "    .dataframe thead th {\n",
       "        text-align: right;\n",
       "    }\n",
       "</style>\n",
       "<table border=\"1\" class=\"dataframe\">\n",
       "  <thead>\n",
       "    <tr style=\"text-align: right;\">\n",
       "      <th></th>\n",
       "      <th>Name</th>\n",
       "      <th>StudyHours</th>\n",
       "      <th>Grade</th>\n",
       "      <th>Result</th>\n",
       "    </tr>\n",
       "  </thead>\n",
       "  <tbody>\n",
       "    <tr>\n",
       "      <th>0</th>\n",
       "      <td>Dan</td>\n",
       "      <td>10.00</td>\n",
       "      <td>50.0</td>\n",
       "      <td>False</td>\n",
       "    </tr>\n",
       "    <tr>\n",
       "      <th>1</th>\n",
       "      <td>Joann</td>\n",
       "      <td>11.50</td>\n",
       "      <td>50.0</td>\n",
       "      <td>False</td>\n",
       "    </tr>\n",
       "    <tr>\n",
       "      <th>2</th>\n",
       "      <td>Pedro</td>\n",
       "      <td>9.00</td>\n",
       "      <td>47.0</td>\n",
       "      <td>False</td>\n",
       "    </tr>\n",
       "    <tr>\n",
       "      <th>3</th>\n",
       "      <td>Rosie</td>\n",
       "      <td>16.00</td>\n",
       "      <td>97.0</td>\n",
       "      <td>True</td>\n",
       "    </tr>\n",
       "    <tr>\n",
       "      <th>4</th>\n",
       "      <td>Ethan</td>\n",
       "      <td>9.25</td>\n",
       "      <td>49.0</td>\n",
       "      <td>False</td>\n",
       "    </tr>\n",
       "  </tbody>\n",
       "</table>\n",
       "</div>"
      ],
      "text/plain": [
       "    Name  StudyHours  Grade  Result\n",
       "0    Dan       10.00   50.0   False\n",
       "1  Joann       11.50   50.0   False\n",
       "2  Pedro        9.00   47.0   False\n",
       "3  Rosie       16.00   97.0    True\n",
       "4  Ethan        9.25   49.0   False"
      ]
     },
     "execution_count": 38,
     "metadata": {},
     "output_type": "execute_result"
    }
   ],
   "source": [
    "df_student.head()"
   ]
  },
  {
   "cell_type": "code",
   "execution_count": 39,
   "id": "a2104b0f-1c0e-4f3d-ad4c-3f0357253c58",
   "metadata": {},
   "outputs": [
    {
     "data": {
      "text/html": [
       "<div>\n",
       "<style scoped>\n",
       "    .dataframe tbody tr th:only-of-type {\n",
       "        vertical-align: middle;\n",
       "    }\n",
       "\n",
       "    .dataframe tbody tr th {\n",
       "        vertical-align: top;\n",
       "    }\n",
       "\n",
       "    .dataframe thead th {\n",
       "        text-align: right;\n",
       "    }\n",
       "</style>\n",
       "<table border=\"1\" class=\"dataframe\">\n",
       "  <thead>\n",
       "    <tr style=\"text-align: right;\">\n",
       "      <th></th>\n",
       "      <th>Name</th>\n",
       "      <th>StudyHours</th>\n",
       "      <th>Grade</th>\n",
       "    </tr>\n",
       "    <tr>\n",
       "      <th>Result</th>\n",
       "      <th></th>\n",
       "      <th></th>\n",
       "      <th></th>\n",
       "    </tr>\n",
       "  </thead>\n",
       "  <tbody>\n",
       "    <tr>\n",
       "      <th>False</th>\n",
       "      <td>15</td>\n",
       "      <td>15</td>\n",
       "      <td>15</td>\n",
       "    </tr>\n",
       "    <tr>\n",
       "      <th>True</th>\n",
       "      <td>7</td>\n",
       "      <td>7</td>\n",
       "      <td>7</td>\n",
       "    </tr>\n",
       "  </tbody>\n",
       "</table>\n",
       "</div>"
      ],
      "text/plain": [
       "        Name  StudyHours  Grade\n",
       "Result                         \n",
       "False     15          15     15\n",
       "True       7           7      7"
      ]
     },
     "execution_count": 39,
     "metadata": {},
     "output_type": "execute_result"
    }
   ],
   "source": [
    "df_student.groupby(by=\"Result\").count()"
   ]
  },
  {
   "cell_type": "code",
   "execution_count": 40,
   "id": "9ef1f799-bb29-4b06-b05e-e61572c2d768",
   "metadata": {},
   "outputs": [
    {
     "data": {
      "text/html": [
       "<div>\n",
       "<style scoped>\n",
       "    .dataframe tbody tr th:only-of-type {\n",
       "        vertical-align: middle;\n",
       "    }\n",
       "\n",
       "    .dataframe tbody tr th {\n",
       "        vertical-align: top;\n",
       "    }\n",
       "\n",
       "    .dataframe thead th {\n",
       "        text-align: right;\n",
       "    }\n",
       "</style>\n",
       "<table border=\"1\" class=\"dataframe\">\n",
       "  <thead>\n",
       "    <tr style=\"text-align: right;\">\n",
       "      <th></th>\n",
       "      <th>Name</th>\n",
       "      <th>StudyHours</th>\n",
       "      <th>Grade</th>\n",
       "      <th>Result</th>\n",
       "    </tr>\n",
       "  </thead>\n",
       "  <tbody>\n",
       "    <tr>\n",
       "      <th>5</th>\n",
       "      <td>Vicky</td>\n",
       "      <td>1.00</td>\n",
       "      <td>3.0</td>\n",
       "      <td>False</td>\n",
       "    </tr>\n",
       "    <tr>\n",
       "      <th>13</th>\n",
       "      <td>Kian</td>\n",
       "      <td>8.00</td>\n",
       "      <td>15.0</td>\n",
       "      <td>False</td>\n",
       "    </tr>\n",
       "    <tr>\n",
       "      <th>8</th>\n",
       "      <td>Rhonda</td>\n",
       "      <td>8.50</td>\n",
       "      <td>26.0</td>\n",
       "      <td>False</td>\n",
       "    </tr>\n",
       "    <tr>\n",
       "      <th>15</th>\n",
       "      <td>Jakeem</td>\n",
       "      <td>8.00</td>\n",
       "      <td>27.0</td>\n",
       "      <td>False</td>\n",
       "    </tr>\n",
       "    <tr>\n",
       "      <th>17</th>\n",
       "      <td>Ismat</td>\n",
       "      <td>6.00</td>\n",
       "      <td>35.0</td>\n",
       "      <td>False</td>\n",
       "    </tr>\n",
       "    <tr>\n",
       "      <th>16</th>\n",
       "      <td>Helena</td>\n",
       "      <td>9.00</td>\n",
       "      <td>36.0</td>\n",
       "      <td>False</td>\n",
       "    </tr>\n",
       "    <tr>\n",
       "      <th>12</th>\n",
       "      <td>Naiyana</td>\n",
       "      <td>9.00</td>\n",
       "      <td>37.0</td>\n",
       "      <td>False</td>\n",
       "    </tr>\n",
       "    <tr>\n",
       "      <th>7</th>\n",
       "      <td>Jimmie</td>\n",
       "      <td>9.00</td>\n",
       "      <td>42.0</td>\n",
       "      <td>False</td>\n",
       "    </tr>\n",
       "    <tr>\n",
       "      <th>2</th>\n",
       "      <td>Pedro</td>\n",
       "      <td>9.00</td>\n",
       "      <td>47.0</td>\n",
       "      <td>False</td>\n",
       "    </tr>\n",
       "    <tr>\n",
       "      <th>18</th>\n",
       "      <td>Anila</td>\n",
       "      <td>10.00</td>\n",
       "      <td>48.0</td>\n",
       "      <td>False</td>\n",
       "    </tr>\n",
       "    <tr>\n",
       "      <th>4</th>\n",
       "      <td>Ethan</td>\n",
       "      <td>9.25</td>\n",
       "      <td>49.0</td>\n",
       "      <td>False</td>\n",
       "    </tr>\n",
       "    <tr>\n",
       "      <th>1</th>\n",
       "      <td>Joann</td>\n",
       "      <td>11.50</td>\n",
       "      <td>50.0</td>\n",
       "      <td>False</td>\n",
       "    </tr>\n",
       "    <tr>\n",
       "      <th>0</th>\n",
       "      <td>Dan</td>\n",
       "      <td>10.00</td>\n",
       "      <td>50.0</td>\n",
       "      <td>False</td>\n",
       "    </tr>\n",
       "    <tr>\n",
       "      <th>19</th>\n",
       "      <td>Skye</td>\n",
       "      <td>12.00</td>\n",
       "      <td>52.0</td>\n",
       "      <td>False</td>\n",
       "    </tr>\n",
       "    <tr>\n",
       "      <th>6</th>\n",
       "      <td>Frederic</td>\n",
       "      <td>11.50</td>\n",
       "      <td>53.0</td>\n",
       "      <td>False</td>\n",
       "    </tr>\n",
       "    <tr>\n",
       "      <th>11</th>\n",
       "      <td>Rajab</td>\n",
       "      <td>13.75</td>\n",
       "      <td>62.0</td>\n",
       "      <td>True</td>\n",
       "    </tr>\n",
       "    <tr>\n",
       "      <th>20</th>\n",
       "      <td>Daniel</td>\n",
       "      <td>12.50</td>\n",
       "      <td>63.0</td>\n",
       "      <td>True</td>\n",
       "    </tr>\n",
       "    <tr>\n",
       "      <th>21</th>\n",
       "      <td>Aisha</td>\n",
       "      <td>12.00</td>\n",
       "      <td>64.0</td>\n",
       "      <td>True</td>\n",
       "    </tr>\n",
       "    <tr>\n",
       "      <th>14</th>\n",
       "      <td>Jenny</td>\n",
       "      <td>15.50</td>\n",
       "      <td>70.0</td>\n",
       "      <td>True</td>\n",
       "    </tr>\n",
       "    <tr>\n",
       "      <th>9</th>\n",
       "      <td>Giovanni</td>\n",
       "      <td>14.50</td>\n",
       "      <td>74.0</td>\n",
       "      <td>True</td>\n",
       "    </tr>\n",
       "    <tr>\n",
       "      <th>10</th>\n",
       "      <td>Francesca</td>\n",
       "      <td>15.50</td>\n",
       "      <td>82.0</td>\n",
       "      <td>True</td>\n",
       "    </tr>\n",
       "    <tr>\n",
       "      <th>3</th>\n",
       "      <td>Rosie</td>\n",
       "      <td>16.00</td>\n",
       "      <td>97.0</td>\n",
       "      <td>True</td>\n",
       "    </tr>\n",
       "  </tbody>\n",
       "</table>\n",
       "</div>"
      ],
      "text/plain": [
       "         Name  StudyHours  Grade  Result\n",
       "5       Vicky        1.00    3.0   False\n",
       "13       Kian        8.00   15.0   False\n",
       "8      Rhonda        8.50   26.0   False\n",
       "15     Jakeem        8.00   27.0   False\n",
       "17      Ismat        6.00   35.0   False\n",
       "16     Helena        9.00   36.0   False\n",
       "12    Naiyana        9.00   37.0   False\n",
       "7      Jimmie        9.00   42.0   False\n",
       "2       Pedro        9.00   47.0   False\n",
       "18      Anila       10.00   48.0   False\n",
       "4       Ethan        9.25   49.0   False\n",
       "1       Joann       11.50   50.0   False\n",
       "0         Dan       10.00   50.0   False\n",
       "19       Skye       12.00   52.0   False\n",
       "6    Frederic       11.50   53.0   False\n",
       "11      Rajab       13.75   62.0    True\n",
       "20     Daniel       12.50   63.0    True\n",
       "21      Aisha       12.00   64.0    True\n",
       "14      Jenny       15.50   70.0    True\n",
       "9    Giovanni       14.50   74.0    True\n",
       "10  Francesca       15.50   82.0    True\n",
       "3       Rosie       16.00   97.0    True"
      ]
     },
     "execution_count": 40,
     "metadata": {},
     "output_type": "execute_result"
    }
   ],
   "source": [
    "df_student.sort_values(by=\"Grade\")"
   ]
  },
  {
   "cell_type": "markdown",
   "id": "82ac1a81-7d69-48ef-98db-4c77cf061097",
   "metadata": {},
   "source": [
    "## plotting bar chart"
   ]
  },
  {
   "cell_type": "code",
   "execution_count": 41,
   "id": "60cd2532-1a10-41a6-ac53-3c40c5cafc96",
   "metadata": {},
   "outputs": [
    {
     "data": {
      "image/png": "[encoded data removed]",
      "text/plain": [
       "<Figure size 432x288 with 1 Axes>"
      ]
     },
     "metadata": {
      "needs_background": "light"
     },
     "output_type": "display_data"
    }
   ],
   "source": [
    "fig = plt.figure()\n",
    "ax = fig.add_subplot(111)\n",
    "ax.set(\n",
    "    title=\"Student Grades\",\n",
    "    xlabel=\"Student\",\n",
    "    ylabel=\"Grade\"\n",
    ")\n",
    "ax.bar(\n",
    "    x = df_student.Name,\n",
    "    height = df_student.Grade\n",
    ")\n",
    "ax.grid(alpha=0.7,axis='y',linewidth=1.5)\n",
    "\n",
    "plt.xticks(rotation=90)\n",
    "plt.show()"
   ]
  },
  {
   "cell_type": "code",
   "execution_count": 42,
   "id": "91259914-c026-42a2-b112-d1aa338ee1b8",
   "metadata": {},
   "outputs": [
    {
     "name": "stderr",
     "output_type": "stream",
     "text": [
      "<ipython-input-42-8f01b18f3565>:13: UserWarning: FixedFormatter should only be used together with FixedLocator\n",
      "  ax[0].set_xticklabels(labels=df_student.Name, rotation = 90)\n"
     ]
    },
    {
     "data": {
      "image/png": "[encoded data removed]",
      "text/plain": [
       "<Figure size 720x288 with 2 Axes>"
      ]
     },
     "metadata": {
      "needs_background": "light"
     },
     "output_type": "display_data"
    }
   ],
   "source": [
    "fig,ax = plt.subplots(nrows=1,ncols=2,figsize=(10,4))\n",
    "\n",
    "ax[0].set(\n",
    "    title=\"Student Grades\",\n",
    "    xlabel=\"Student\",\n",
    "    ylabel=\"Grade\"\n",
    ")\n",
    "ax[0].bar(\n",
    "    x = df_student.Name,\n",
    "    height = df_student.Grade\n",
    ")\n",
    "ax[0].grid(alpha=0.7,axis='y',linewidth=1.5)\n",
    "ax[0].set_xticklabels(labels=df_student.Name, rotation = 90)\n",
    "\n",
    "\n",
    "pass_counts = df_student[\"Result\"].value_counts()\n",
    "ax[1].set(\n",
    "    title=\"Passing Grades\"\n",
    ")\n",
    "ax[1].pie(\n",
    "    x=pass_counts,\n",
    "    labels=pass_counts\n",
    ")\n",
    "ax[1].legend(pass_counts.keys().tolist())\n",
    "\n",
    "\n",
    "fig.suptitle(\"Student EDA\")\n",
    "plt.show()"
   ]
  },
  {
   "cell_type": "code",
   "execution_count": 43,
   "id": "ab14eec1-a133-4c34-978a-927c46f739f1",
   "metadata": {},
   "outputs": [
    {
     "data": {
      "text/plain": [
       "<AxesSubplot:xlabel='Name'>"
      ]
     },
     "execution_count": 43,
     "metadata": {},
     "output_type": "execute_result"
    },
    {
     "data": {
      "image/png": "[encoded data removed]",
      "text/plain": [
       "<Figure size 432x288 with 1 Axes>"
      ]
     },
     "metadata": {
      "needs_background": "light"
     },
     "output_type": "display_data"
    }
   ],
   "source": [
    "df_student.plot.bar(\n",
    "    x=\"Name\",y=\"StudyHours\",color=\"teal\",figsize=(6,4)\n",
    ")"
   ]
  },
  {
   "cell_type": "markdown",
   "id": "bad920a6-e318-4fb2-b48c-fa4405ae1b8f",
   "metadata": {},
   "source": [
    "## Plotting Data Distributions"
   ]
  },
  {
   "cell_type": "code",
   "execution_count": 44,
   "id": "197ad48f-9f9f-4c88-8fc0-f73a91fa0a47",
   "metadata": {},
   "outputs": [
    {
     "data": {
      "image/png": "[encoded data removed]",
      "text/plain": [
       "<Figure size 720x288 with 2 Axes>"
      ]
     },
     "metadata": {
      "needs_background": "light"
     },
     "output_type": "display_data"
    }
   ],
   "source": [
    "fig = plt.figure(figsize=(10,4))\n",
    "ax = fig.add_subplot(121)\n",
    "ax.set(\n",
    "    title=\"Distribution\",\n",
    "    xlabel=\"value-Grade\",\n",
    "    ylabel=\"frequency-Grade\"\n",
    ")\n",
    "\n",
    "ax.hist(df_student[\"Grade\"])\n",
    "\n",
    "ax = fig.add_subplot(122)\n",
    "ax.set(\n",
    "    title=\"Distribution\",\n",
    "    xlabel=\"value-Grade\",\n",
    "    ylabel=\"density-Grade\"\n",
    ")\n",
    "\n",
    "ax.hist(df_student[\"Grade\"],density=True)\n",
    "\n",
    "plt.tight_layout()\n",
    "plt.show()"
   ]
  },
  {
   "cell_type": "code",
   "execution_count": 45,
   "id": "8be5c241-13c5-4f21-9476-bf81b85e522a",
   "metadata": {},
   "outputs": [
    {
     "data": {
      "image/png": "[encoded data removed]",
      "text/plain": [
       "<Figure size 720x288 with 1 Axes>"
      ]
     },
     "metadata": {
      "needs_background": "light"
     },
     "output_type": "display_data"
    }
   ],
   "source": [
    "fig = plt.figure(figsize=(10,4))\n",
    "ax = fig.add_subplot(111)\n",
    "ax.set(\n",
    "    title=\"Distribution\",\n",
    "    xlabel=\"value-Grade\",\n",
    "    ylabel=\"frequency-Grade\"\n",
    ")\n",
    "\n",
    "data = df_student[\"Grade\"]\n",
    "mean_value = data.mean()\n",
    "median_value = data.median()\n",
    "min_value = data.min()\n",
    "max_value = data.max()\n",
    "mode_value = data.mode()[0]\n",
    "\n",
    "ax.hist(data,color='green')\n",
    "ax.axvline(x=mean_value,c='r')\n",
    "ax.axvline(x=median_value,c='cyan')\n",
    "ax.axvline(x=min_value,c='black')\n",
    "ax.axvline(x=max_value,c='black')\n",
    "ax.axvline(x=mode_value,c='black')\n",
    "\n",
    "plt.show()"
   ]
  },
  {
   "cell_type": "markdown",
   "id": "c6d50933-0ca9-4a67-8ff7-323786bcecbb",
   "metadata": {},
   "source": [
    "## Plotting Box Plot\n",
    "\n",
    "- boxplot shows the distribution quantile range"
   ]
  },
  {
   "cell_type": "code",
   "execution_count": 46,
   "id": "1896594e-87dc-495a-b6d8-86368f4ea308",
   "metadata": {},
   "outputs": [
    {
     "data": {
      "image/png": "[encoded data removed]",
      "text/plain": [
       "<Figure size 432x288 with 1 Axes>"
      ]
     },
     "metadata": {
      "needs_background": "light"
     },
     "output_type": "display_data"
    }
   ],
   "source": [
    "fig = plt.figure()\n",
    "ax = fig.add_subplot(111)\n",
    "\n",
    "ax.boxplot(df_student.Grade)\n",
    "\n",
    "plt.show()"
   ]
  },
  {
   "cell_type": "markdown",
   "id": "5db161b3-60c1-4192-870e-4534bb6579bb",
   "metadata": {},
   "source": [
    "## creating a function to plot distribution "
   ]
  },
  {
   "cell_type": "code",
   "execution_count": 47,
   "id": "4cb83034-43be-40ac-af32-7ac31447d2ff",
   "metadata": {},
   "outputs": [],
   "source": [
    "def plot_distribution(data):\n",
    "    fig = plt.figure(figsize=(10,4))\n",
    "    ax = fig.add_subplot(111)\n",
    "    ax.set(\n",
    "        title=\"Distribution\",\n",
    "        xlabel=\"value\",\n",
    "        ylabel=\"frequency\"\n",
    "    )\n",
    "    mean_value = data.mean()\n",
    "    median_value = data.median()\n",
    "    min_value = data.min()\n",
    "    max_value = data.max()\n",
    "    mode_value = data.mode()[0]\n",
    "\n",
    "    ax.hist(data,color='green')\n",
    "    ax.axvline(x=mean_value,c='r')\n",
    "    ax.axvline(x=median_value,c='cyan')\n",
    "    ax.axvline(x=min_value,c='black')\n",
    "    ax.axvline(x=max_value,c='black')\n",
    "    ax.axvline(x=mode_value,c='black')\n",
    "\n",
    "    plt.show()"
   ]
  },
  {
   "cell_type": "code",
   "execution_count": 48,
   "id": "4bb31c4c-97ea-4a6d-81fb-df92df09acbb",
   "metadata": {},
   "outputs": [
    {
     "data": {
      "image/png": "[encoded data removed]",
      "text/plain": [
       "<Figure size 720x288 with 1 Axes>"
      ]
     },
     "metadata": {
      "needs_background": "light"
     },
     "output_type": "display_data"
    }
   ],
   "source": [
    "plot_distribution(df_student.Grade)"
   ]
  },
  {
   "cell_type": "code",
   "execution_count": 49,
   "id": "3a208b9f-2e82-4cf4-8674-ec4a40e46b70",
   "metadata": {},
   "outputs": [
    {
     "data": {
      "text/plain": [
       "<AxesSubplot:ylabel='Density'>"
      ]
     },
     "execution_count": 49,
     "metadata": {},
     "output_type": "execute_result"
    },
    {
     "data": {
      "image/png": "[encoded data removed]",
      "text/plain": [
       "<Figure size 432x288 with 1 Axes>"
      ]
     },
     "metadata": {
      "needs_background": "light"
     },
     "output_type": "display_data"
    }
   ],
   "source": [
    "df_student.Grade.plot.density()"
   ]
  },
  {
   "cell_type": "code",
   "execution_count": 50,
   "id": "969b90b5-717b-474f-9bb2-fc0a506fdd63",
   "metadata": {},
   "outputs": [
    {
     "data": {
      "image/png": "[encoded data removed]",
      "text/plain": [
       "<Figure size 720x288 with 1 Axes>"
      ]
     },
     "metadata": {
      "needs_background": "light"
     },
     "output_type": "display_data"
    }
   ],
   "source": [
    "q01 = df_student.StudyHours.quantile(0.01)\n",
    "col = df_student[df_student.StudyHours>q01]['StudyHours']\n",
    "# Call the function\n",
    "plot_distribution(col)"
   ]
  },
  {
   "cell_type": "code",
   "execution_count": 51,
   "id": "ce2caf5b-b0c9-4e2c-a7b8-caab777a18da",
   "metadata": {},
   "outputs": [
    {
     "data": {
      "text/plain": [
       "StudyHours     3.487144\n",
       "Grade         21.737912\n",
       "Result         0.476731\n",
       "dtype: float64"
      ]
     },
     "execution_count": 51,
     "metadata": {},
     "output_type": "execute_result"
    }
   ],
   "source": [
    "df_student.std()"
   ]
  },
  {
   "cell_type": "code",
   "execution_count": 52,
   "id": "22330bc3-22b8-4495-b25d-ede09e26c4b8",
   "metadata": {},
   "outputs": [
    {
     "data": {
      "text/plain": [
       "StudyHours     12.160173\n",
       "Grade         472.536797\n",
       "Result          0.227273\n",
       "dtype: float64"
      ]
     },
     "execution_count": 52,
     "metadata": {},
     "output_type": "execute_result"
    }
   ],
   "source": [
    "df_student.var()"
   ]
  },
  {
   "cell_type": "code",
   "execution_count": 53,
   "id": "b8345132-a88b-4c8d-a877-554aa5dc088d",
   "metadata": {},
   "outputs": [
    {
     "data": {
      "image/png": "[encoded data removed]",
      "text/plain": [
       "<Figure size 432x288 with 1 Axes>"
      ]
     },
     "metadata": {
      "needs_background": "light"
     },
     "output_type": "display_data"
    }
   ],
   "source": [
    "import scipy.stats as stats\n",
    "\n",
    "data = df_student.Grade\n",
    "std_value = data.std()\n",
    "mean_value = data.mean()\n",
    "\n",
    "\n",
    "kde = stats.gaussian_kde(data)\n",
    "\n",
    "fig = plt.figure()\n",
    "ax = fig.add_subplot(111)\n",
    "\n",
    "data.plot.density()\n",
    "\n",
    "\n",
    "x1 = [ mean_value - std_value , mean_value + std_value ]\n",
    "y1 = kde(x1)\n",
    "ax.plot(x1,y1, color='magenta')\n",
    "ax.annotate('1 std (68.26%)', (x1[1],y1[1]))\n",
    "\n",
    "x2 = [mean_value-(std_value*2), mean_value+(std_value*2)]\n",
    "y2 = kde(x2)\n",
    "ax.plot(x2,y2, color='green')\n",
    "ax.annotate('2 std (95.45%)', (x2[1],y2[1]))\n",
    "\n",
    "x3 = [mean_value-(std_value*3), mean_value+(std_value*3)]\n",
    "y3 = kde(x3)\n",
    "ax.plot(x3,y3, color='orange')\n",
    "ax.annotate('3 std (99.73%)', (x3[1],y3[1]))\n",
    "\n",
    "ax.axvline(mean_value, color='cyan', linestyle='dashed', linewidth=2)\n",
    "ax.axis('off')\n",
    "\n",
    "plt.show()"
   ]
  },
  {
   "cell_type": "markdown",
   "id": "91ede6cb-9511-40f6-a872-d38d71bc1e91",
   "metadata": {},
   "source": [
    "* Approximately 68.26% of values fall within one standard deviation from the mean.\n",
    "* Approximately 95.45% of values fall within two standard deviations from the mean.\n",
    "* Approximately 99.73% of values fall within three standard deviations from the mean.\n",
    "\n",
    "these stats are fuckin good."
   ]
  },
  {
   "cell_type": "code",
   "execution_count": 54,
   "id": "1e624e01-6494-4946-809b-97efef59d73b",
   "metadata": {},
   "outputs": [
    {
     "data": {
      "text/html": [
       "<div>\n",
       "<style scoped>\n",
       "    .dataframe tbody tr th:only-of-type {\n",
       "        vertical-align: middle;\n",
       "    }\n",
       "\n",
       "    .dataframe tbody tr th {\n",
       "        vertical-align: top;\n",
       "    }\n",
       "\n",
       "    .dataframe thead th {\n",
       "        text-align: right;\n",
       "    }\n",
       "</style>\n",
       "<table border=\"1\" class=\"dataframe\">\n",
       "  <thead>\n",
       "    <tr style=\"text-align: right;\">\n",
       "      <th></th>\n",
       "      <th>StudyHours</th>\n",
       "      <th>Grade</th>\n",
       "    </tr>\n",
       "  </thead>\n",
       "  <tbody>\n",
       "    <tr>\n",
       "      <th>count</th>\n",
       "      <td>22.000000</td>\n",
       "      <td>22.000000</td>\n",
       "    </tr>\n",
       "    <tr>\n",
       "      <th>mean</th>\n",
       "      <td>10.522727</td>\n",
       "      <td>49.181818</td>\n",
       "    </tr>\n",
       "    <tr>\n",
       "      <th>std</th>\n",
       "      <td>3.487144</td>\n",
       "      <td>21.737912</td>\n",
       "    </tr>\n",
       "    <tr>\n",
       "      <th>min</th>\n",
       "      <td>1.000000</td>\n",
       "      <td>3.000000</td>\n",
       "    </tr>\n",
       "    <tr>\n",
       "      <th>25%</th>\n",
       "      <td>9.000000</td>\n",
       "      <td>36.250000</td>\n",
       "    </tr>\n",
       "    <tr>\n",
       "      <th>50%</th>\n",
       "      <td>10.000000</td>\n",
       "      <td>49.500000</td>\n",
       "    </tr>\n",
       "    <tr>\n",
       "      <th>75%</th>\n",
       "      <td>12.375000</td>\n",
       "      <td>62.750000</td>\n",
       "    </tr>\n",
       "    <tr>\n",
       "      <th>max</th>\n",
       "      <td>16.000000</td>\n",
       "      <td>97.000000</td>\n",
       "    </tr>\n",
       "  </tbody>\n",
       "</table>\n",
       "</div>"
      ],
      "text/plain": [
       "       StudyHours      Grade\n",
       "count   22.000000  22.000000\n",
       "mean    10.522727  49.181818\n",
       "std      3.487144  21.737912\n",
       "min      1.000000   3.000000\n",
       "25%      9.000000  36.250000\n",
       "50%     10.000000  49.500000\n",
       "75%     12.375000  62.750000\n",
       "max     16.000000  97.000000"
      ]
     },
     "execution_count": 54,
     "metadata": {},
     "output_type": "execute_result"
    }
   ],
   "source": [
    "df_student.describe()"
   ]
  },
  {
   "cell_type": "code",
   "execution_count": 55,
   "id": "3c1f39d7-46af-4413-b65e-f1c9cfeb2e93",
   "metadata": {},
   "outputs": [
    {
     "data": {
      "text/plain": [
       "<AxesSubplot:xlabel='Name'>"
      ]
     },
     "execution_count": 55,
     "metadata": {},
     "output_type": "execute_result"
    },
    {
     "data": {
      "image/png": "[encoded data removed]",
      "text/plain": [
       "<Figure size 576x360 with 1 Axes>"
      ]
     },
     "metadata": {
      "needs_background": "light"
     },
     "output_type": "display_data"
    }
   ],
   "source": [
    "df_student.plot(x='Name', y=['Grade','StudyHours'], kind='bar', figsize=(8,5))"
   ]
  },
  {
   "cell_type": "markdown",
   "id": "8a9e5e95-8353-41e1-951b-a2c7fc79c202",
   "metadata": {},
   "source": [
    "## Numeric Values Exploration\n",
    "\n",
    "- start off by normalization. I know\n",
    "    - Min-Max Normalization\n",
    "    - Standard Normalization\n",
    "   "
   ]
  },
  {
   "cell_type": "code",
   "execution_count": 56,
   "id": "f7b9bf29-12d0-4a7f-a16e-3c7fdcc34946",
   "metadata": {},
   "outputs": [
    {
     "data": {
      "text/plain": [
       "<AxesSubplot:xlabel='Name'>"
      ]
     },
     "execution_count": 56,
     "metadata": {},
     "output_type": "execute_result"
    },
    {
     "data": {
      "image/png": "[encoded data removed]",
      "text/plain": [
       "<Figure size 432x288 with 1 Axes>"
      ]
     },
     "metadata": {
      "needs_background": "light"
     },
     "output_type": "display_data"
    }
   ],
   "source": [
    "from sklearn.preprocessing import MinMaxScaler\n",
    "\n",
    "min_max_scaler = MinMaxScaler()\n",
    "\n",
    "df_normalized = df_student.copy()\n",
    "\n",
    "df_normalized[['Grade','StudyHours']] = min_max_scaler.fit_transform(df_normalized[['Grade','StudyHours']])\n",
    "\n",
    "\n",
    "df_normalized.plot(x='Name',y=[\"Grade\",\"StudyHours\"], kind='bar')"
   ]
  },
  {
   "cell_type": "markdown",
   "id": "f562922e-c20a-4695-870f-bbb0b7fdbf63",
   "metadata": {},
   "source": [
    "- Now the values are between 0 and 1. Very Convenient"
   ]
  },
  {
   "cell_type": "code",
   "execution_count": 57,
   "id": "82dbc9ef-1f37-48b4-98c8-ef0fb0f297d9",
   "metadata": {},
   "outputs": [
    {
     "data": {
      "text/plain": [
       "0.9254280509006746"
      ]
     },
     "execution_count": 57,
     "metadata": {},
     "output_type": "execute_result"
    }
   ],
   "source": [
    "df_normalized[\"Grade\"].corr(df_normalized[\"StudyHours\"])"
   ]
  },
  {
   "cell_type": "code",
   "execution_count": 58,
   "id": "88b33969-a069-4168-bbbc-15d5c495fa70",
   "metadata": {},
   "outputs": [
    {
     "data": {
      "text/plain": [
       "<AxesSubplot:xlabel='Grade'>"
      ]
     },
     "execution_count": 58,
     "metadata": {},
     "output_type": "execute_result"
    },
    {
     "data": {
      "image/png": "[encoded data removed]",
      "text/plain": [
       "<Figure size 432x288 with 1 Axes>"
      ]
     },
     "metadata": {
      "needs_background": "light"
     },
     "output_type": "display_data"
    }
   ],
   "source": [
    "df_normalized.sort_values(by=\"Grade\").plot.line(x=\"Grade\",y=\"StudyHours\")"
   ]
  },
  {
   "cell_type": "markdown",
   "id": "c0c67436-83da-48ef-bb99-dadb9bea4986",
   "metadata": {},
   "source": [
    "## With Linear Regression now... These many plots weren't enough I think"
   ]
  },
  {
   "cell_type": "code",
   "execution_count": 59,
   "id": "d0b74772-0eba-4d6f-a16a-f21436d8fad7",
   "metadata": {},
   "outputs": [],
   "source": [
    "from scipy import stats\n",
    "\n",
    "df_regression = df_student[['Grade','StudyHours']].copy()"
   ]
  },
  {
   "cell_type": "markdown",
   "id": "8529d405-4f38-4f28-9d63-637490b417fb",
   "metadata": {},
   "source": [
    "* slope : float\n",
    "        Slope of the regression line.\n",
    "* intercept : float\n",
    "    Intercept of the regression line.\n",
    "* rvalue : float\n",
    "    Correlation coefficient.\n",
    "* pvalue : float\n",
    "    Two-sided p-value for a hypothesis test whose null hypothesis is\n",
    "    that the slope is zero, using Wald Test with t-distribution of\n",
    "    the test statistic.\n",
    "* stderr : float\n",
    "    Standard error of the estimated slope (gradient), under the\n",
    "    assumption of residual normality.\n",
    "* intercept_stderr : float\n",
    "    Standard error of the estimated intercept, under the assumption\n",
    "    of residual normality."
   ]
  },
  {
   "cell_type": "code",
   "execution_count": 60,
   "id": "79fefbcb-1f11-4409-9dc3-7d06ffad111f",
   "metadata": {},
   "outputs": [],
   "source": [
    "slope,intercept,rvalue,pvalue,stderr = stats.linregress(df_regression['Grade'],df_regression['StudyHours'])"
   ]
  },
  {
   "cell_type": "code",
   "execution_count": 61,
   "id": "91122f0e-e9b7-42a5-9963-c3608d9cb5b1",
   "metadata": {},
   "outputs": [
    {
     "data": {
      "text/plain": [
       "(0.14845496353842208,\n",
       " 3.221442247792151,\n",
       " 0.9254280509006748,\n",
       " 7.037676342345701e-10,\n",
       " 0.01359215943025803)"
      ]
     },
     "execution_count": 61,
     "metadata": {},
     "output_type": "execute_result"
    }
   ],
   "source": [
    "slope,intercept,rvalue,pvalue,stderr"
   ]
  },
  {
   "cell_type": "code",
   "execution_count": 62,
   "id": "ee922ea2-9c5f-412d-b25b-9d64daebc0d9",
   "metadata": {},
   "outputs": [],
   "source": [
    "df_regression['fx'] = slope * df_regression[\"Grade\"] + intercept"
   ]
  },
  {
   "cell_type": "code",
   "execution_count": 63,
   "id": "f07da784-0614-4484-b036-17e37c4205e1",
   "metadata": {},
   "outputs": [
    {
     "data": {
      "image/png": "[encoded data removed]",
      "text/plain": [
       "<Figure size 432x288 with 1 Axes>"
      ]
     },
     "metadata": {
      "needs_background": "light"
     },
     "output_type": "display_data"
    }
   ],
   "source": [
    "fig = plt.figure()\n",
    "ax = fig.add_subplot(111)\n",
    "\n",
    "ax.scatter(df_regression[\"Grade\"],df_regression[\"StudyHours\"] , c='cyan')\n",
    "ax.plot(df_regression[\"Grade\"], df_regression['fx'], c= 'red')\n",
    "\n",
    "plt.show()"
   ]
  }
 ],
 "metadata": {
  "kernelspec": {
   "display_name": "Python 3",
   "language": "python",
   "name": "python3"
  },
  "language_info": {
   "codemirror_mode": {
    "name": "ipython",
    "version": 3
   },
   "file_extension": ".py",
   "mimetype": "text/x-python",
   "name": "python",
   "nbconvert_exporter": "python",
   "pygments_lexer": "ipython3",
   "version": "3.8.2"
  }
 },
 "nbformat": 4,
 "nbformat_minor": 5
}
